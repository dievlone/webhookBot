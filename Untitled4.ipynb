import pandas as pd
import numpy as np
import math

digits_train = pd.read_csv('optdigits_69_N200.tra', header=None)
digits_test = pd.read_csv('optdigits_69.tes', header=None)
train_x,train_y = digits_train[np.arange(64)],digits_train[64]

# p(x|Ci ) 
def st_norm(x,uci,eci):
    return (1.0/(math.sqrt(2*math.pi)*eci)) * math.exp(-(x - uci)**2/(2*eci**2))
    
def naive_bayes(digits_train, row):
    header = list()
    for x in range(1,66):
        header.append(str(x))
    digits_train.columns = header
    
    predict = digits_train.loc[row]["1":"64"]
    N = len(digits_train)
    res={}
    P_pre= digits_train['65'].value_counts().apply(lambda x:'{0:.3f}'.format(x/N))
    res['train_Y'] = P_pre.values
    predict=predict.to_dict()
    
    for key, val in predict.items():
        raw=digits_train
        temp = raw.groupby('65')[key].apply(lambda x: st_norm(val ,x.mean(),x.std()))
        res[key] = temp.values
    df = pd.DataFrame(res, index=['train_Y：6', 'train_Y：9'])
    return df.prod(np.nan,axis=1).idxmax()
